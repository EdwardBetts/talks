{
 "metadata": {
  "name": ""
 },
 "nbformat": 3,
 "nbformat_minor": 0,
 "worksheets": [
  {
   "cells": [
    {
     "cell_type": "heading",
     "level": 1,
     "metadata": {},
     "source": [
      "Introdu\u00e7\u00e3o ao IPython Notebook"
     ]
    },
    {
     "cell_type": "heading",
     "level": 2,
     "metadata": {},
     "source": [
      "Comandos simples"
     ]
    },
    {
     "cell_type": "code",
     "collapsed": false,
     "input": [
      "print \"Hello Word\""
     ],
     "language": "python",
     "metadata": {},
     "outputs": [
      {
       "output_type": "stream",
       "stream": "stdout",
       "text": [
        "Hello Word\n"
       ]
      }
     ],
     "prompt_number": 1
    },
    {
     "cell_type": "code",
     "collapsed": false,
     "input": [
      "def hello (name):\n",
      "    print 'Hello {name}!'.format(name=name)"
     ],
     "language": "python",
     "metadata": {},
     "outputs": [],
     "prompt_number": 2
    },
    {
     "cell_type": "code",
     "collapsed": true,
     "input": [
      "hello('PUG')"
     ],
     "language": "python",
     "metadata": {},
     "outputs": [
      {
       "output_type": "stream",
       "stream": "stdout",
       "text": [
        "Hello PUG!\n"
       ]
      }
     ],
     "prompt_number": 3
    },
    {
     "cell_type": "heading",
     "level": 2,
     "metadata": {},
     "source": [
      "Comandos m\u00e1gicos"
     ]
    },
    {
     "cell_type": "code",
     "collapsed": false,
     "input": [
      "%load ../examples/number_format.py"
     ],
     "language": "python",
     "metadata": {},
     "outputs": [],
     "prompt_number": 6
    },
    {
     "cell_type": "code",
     "collapsed": false,
     "input": [
      "def percentage(number):\n",
      "    return '{:.2f}%'.format(100 * number)\n"
     ],
     "language": "python",
     "metadata": {},
     "outputs": [],
     "prompt_number": 7
    },
    {
     "cell_type": "code",
     "collapsed": false,
     "input": [
      "%run ../examples/progressbar.py"
     ],
     "language": "python",
     "metadata": {},
     "outputs": [
      {
       "output_type": "stream",
       "stream": "stdout",
       "text": [
        "="
       ]
      },
      {
       "output_type": "stream",
       "stream": "stdout",
       "text": [
        "="
       ]
      },
      {
       "output_type": "stream",
       "stream": "stdout",
       "text": [
        "="
       ]
      },
      {
       "output_type": "stream",
       "stream": "stdout",
       "text": [
        "="
       ]
      },
      {
       "output_type": "stream",
       "stream": "stdout",
       "text": [
        "="
       ]
      },
      {
       "output_type": "stream",
       "stream": "stdout",
       "text": [
        "="
       ]
      },
      {
       "output_type": "stream",
       "stream": "stdout",
       "text": [
        "="
       ]
      },
      {
       "output_type": "stream",
       "stream": "stdout",
       "text": [
        "="
       ]
      },
      {
       "output_type": "stream",
       "stream": "stdout",
       "text": [
        "="
       ]
      },
      {
       "output_type": "stream",
       "stream": "stdout",
       "text": [
        "="
       ]
      },
      {
       "output_type": "stream",
       "stream": "stdout",
       "text": [
        "="
       ]
      },
      {
       "output_type": "stream",
       "stream": "stdout",
       "text": [
        "="
       ]
      },
      {
       "output_type": "stream",
       "stream": "stdout",
       "text": [
        "="
       ]
      },
      {
       "output_type": "stream",
       "stream": "stdout",
       "text": [
        "="
       ]
      },
      {
       "output_type": "stream",
       "stream": "stdout",
       "text": [
        "="
       ]
      },
      {
       "output_type": "stream",
       "stream": "stdout",
       "text": [
        "="
       ]
      },
      {
       "output_type": "stream",
       "stream": "stdout",
       "text": [
        "="
       ]
      },
      {
       "output_type": "stream",
       "stream": "stdout",
       "text": [
        "="
       ]
      },
      {
       "output_type": "stream",
       "stream": "stdout",
       "text": [
        "="
       ]
      },
      {
       "output_type": "stream",
       "stream": "stdout",
       "text": [
        "="
       ]
      },
      {
       "output_type": "stream",
       "stream": "stdout",
       "text": [
        "="
       ]
      },
      {
       "output_type": "stream",
       "stream": "stdout",
       "text": [
        "="
       ]
      },
      {
       "output_type": "stream",
       "stream": "stdout",
       "text": [
        "="
       ]
      },
      {
       "output_type": "stream",
       "stream": "stdout",
       "text": [
        "="
       ]
      },
      {
       "output_type": "stream",
       "stream": "stdout",
       "text": [
        "="
       ]
      },
      {
       "output_type": "stream",
       "stream": "stdout",
       "text": [
        "="
       ]
      },
      {
       "output_type": "stream",
       "stream": "stdout",
       "text": [
        "="
       ]
      },
      {
       "output_type": "stream",
       "stream": "stdout",
       "text": [
        "="
       ]
      },
      {
       "output_type": "stream",
       "stream": "stdout",
       "text": [
        "="
       ]
      },
      {
       "output_type": "stream",
       "stream": "stdout",
       "text": [
        "="
       ]
      },
      {
       "output_type": "stream",
       "stream": "stdout",
       "text": [
        "="
       ]
      },
      {
       "output_type": "stream",
       "stream": "stdout",
       "text": [
        "="
       ]
      },
      {
       "output_type": "stream",
       "stream": "stdout",
       "text": [
        "="
       ]
      },
      {
       "output_type": "stream",
       "stream": "stdout",
       "text": [
        "="
       ]
      },
      {
       "output_type": "stream",
       "stream": "stdout",
       "text": [
        "="
       ]
      },
      {
       "output_type": "stream",
       "stream": "stdout",
       "text": [
        "="
       ]
      },
      {
       "output_type": "stream",
       "stream": "stdout",
       "text": [
        "="
       ]
      },
      {
       "output_type": "stream",
       "stream": "stdout",
       "text": [
        "="
       ]
      },
      {
       "output_type": "stream",
       "stream": "stdout",
       "text": [
        "="
       ]
      },
      {
       "output_type": "stream",
       "stream": "stdout",
       "text": [
        "="
       ]
      },
      {
       "output_type": "stream",
       "stream": "stdout",
       "text": [
        "="
       ]
      },
      {
       "output_type": "stream",
       "stream": "stdout",
       "text": [
        "="
       ]
      },
      {
       "output_type": "stream",
       "stream": "stdout",
       "text": [
        "="
       ]
      },
      {
       "output_type": "stream",
       "stream": "stdout",
       "text": [
        "="
       ]
      },
      {
       "output_type": "stream",
       "stream": "stdout",
       "text": [
        "="
       ]
      },
      {
       "output_type": "stream",
       "stream": "stdout",
       "text": [
        "="
       ]
      },
      {
       "output_type": "stream",
       "stream": "stdout",
       "text": [
        "="
       ]
      },
      {
       "output_type": "stream",
       "stream": "stdout",
       "text": [
        "="
       ]
      },
      {
       "output_type": "stream",
       "stream": "stdout",
       "text": [
        "="
       ]
      },
      {
       "output_type": "stream",
       "stream": "stdout",
       "text": [
        "="
       ]
      },
      {
       "output_type": "stream",
       "stream": "stdout",
       "text": [
        "="
       ]
      },
      {
       "output_type": "stream",
       "stream": "stdout",
       "text": [
        "="
       ]
      },
      {
       "output_type": "stream",
       "stream": "stdout",
       "text": [
        "="
       ]
      },
      {
       "output_type": "stream",
       "stream": "stdout",
       "text": [
        "="
       ]
      },
      {
       "output_type": "stream",
       "stream": "stdout",
       "text": [
        "="
       ]
      },
      {
       "output_type": "stream",
       "stream": "stdout",
       "text": [
        "="
       ]
      },
      {
       "output_type": "stream",
       "stream": "stdout",
       "text": [
        "="
       ]
      },
      {
       "output_type": "stream",
       "stream": "stdout",
       "text": [
        "="
       ]
      },
      {
       "output_type": "stream",
       "stream": "stdout",
       "text": [
        "="
       ]
      },
      {
       "output_type": "stream",
       "stream": "stdout",
       "text": [
        "="
       ]
      },
      {
       "output_type": "stream",
       "stream": "stdout",
       "text": [
        "="
       ]
      },
      {
       "output_type": "stream",
       "stream": "stdout",
       "text": [
        "="
       ]
      },
      {
       "output_type": "stream",
       "stream": "stdout",
       "text": [
        "="
       ]
      },
      {
       "output_type": "stream",
       "stream": "stdout",
       "text": [
        "="
       ]
      },
      {
       "output_type": "stream",
       "stream": "stdout",
       "text": [
        "="
       ]
      },
      {
       "output_type": "stream",
       "stream": "stdout",
       "text": [
        "="
       ]
      },
      {
       "output_type": "stream",
       "stream": "stdout",
       "text": [
        "="
       ]
      },
      {
       "output_type": "stream",
       "stream": "stdout",
       "text": [
        "="
       ]
      },
      {
       "output_type": "stream",
       "stream": "stdout",
       "text": [
        "="
       ]
      },
      {
       "output_type": "stream",
       "stream": "stdout",
       "text": [
        "="
       ]
      },
      {
       "output_type": "stream",
       "stream": "stdout",
       "text": [
        "="
       ]
      },
      {
       "output_type": "stream",
       "stream": "stdout",
       "text": [
        "="
       ]
      },
      {
       "output_type": "stream",
       "stream": "stdout",
       "text": [
        "="
       ]
      },
      {
       "output_type": "stream",
       "stream": "stdout",
       "text": [
        "="
       ]
      },
      {
       "output_type": "stream",
       "stream": "stdout",
       "text": [
        "="
       ]
      },
      {
       "output_type": "stream",
       "stream": "stdout",
       "text": [
        "="
       ]
      },
      {
       "output_type": "stream",
       "stream": "stdout",
       "text": [
        "="
       ]
      },
      {
       "output_type": "stream",
       "stream": "stdout",
       "text": [
        "="
       ]
      },
      {
       "output_type": "stream",
       "stream": "stdout",
       "text": [
        "="
       ]
      },
      {
       "output_type": "stream",
       "stream": "stdout",
       "text": [
        "="
       ]
      },
      {
       "output_type": "stream",
       "stream": "stdout",
       "text": [
        "="
       ]
      },
      {
       "output_type": "stream",
       "stream": "stdout",
       "text": [
        "="
       ]
      },
      {
       "output_type": "stream",
       "stream": "stdout",
       "text": [
        "="
       ]
      },
      {
       "output_type": "stream",
       "stream": "stdout",
       "text": [
        "="
       ]
      },
      {
       "output_type": "stream",
       "stream": "stdout",
       "text": [
        "="
       ]
      },
      {
       "output_type": "stream",
       "stream": "stdout",
       "text": [
        "="
       ]
      },
      {
       "output_type": "stream",
       "stream": "stdout",
       "text": [
        "="
       ]
      },
      {
       "output_type": "stream",
       "stream": "stdout",
       "text": [
        "="
       ]
      },
      {
       "output_type": "stream",
       "stream": "stdout",
       "text": [
        "="
       ]
      },
      {
       "output_type": "stream",
       "stream": "stdout",
       "text": [
        "="
       ]
      },
      {
       "output_type": "stream",
       "stream": "stdout",
       "text": [
        "="
       ]
      },
      {
       "output_type": "stream",
       "stream": "stdout",
       "text": [
        "="
       ]
      },
      {
       "output_type": "stream",
       "stream": "stdout",
       "text": [
        "="
       ]
      },
      {
       "output_type": "stream",
       "stream": "stdout",
       "text": [
        "="
       ]
      },
      {
       "output_type": "stream",
       "stream": "stdout",
       "text": [
        "="
       ]
      },
      {
       "output_type": "stream",
       "stream": "stdout",
       "text": [
        "="
       ]
      },
      {
       "output_type": "stream",
       "stream": "stdout",
       "text": [
        "="
       ]
      },
      {
       "output_type": "stream",
       "stream": "stdout",
       "text": [
        "="
       ]
      },
      {
       "output_type": "stream",
       "stream": "stdout",
       "text": [
        "="
       ]
      },
      {
       "output_type": "stream",
       "stream": "stdout",
       "text": [
        "="
       ]
      },
      {
       "output_type": "stream",
       "stream": "stdout",
       "text": [
        "\n",
        "Pronto!\n"
       ]
      }
     ],
     "prompt_number": 8
    },
    {
     "cell_type": "code",
     "collapsed": false,
     "input": [
      "%lsmagic"
     ],
     "language": "python",
     "metadata": {},
     "outputs": [
      {
       "json": [
        "{\"cell\": {\"prun\": \"ExecutionMagics\", \"file\": \"Other\", \"!\": \"OSMagics\", \"capture\": \"ExecutionMagics\", \"timeit\": \"ExecutionMagics\", \"script\": \"ScriptMagics\", \"ruby\": \"Other\", \"system\": \"OSMagics\", \"perl\": \"Other\", \"HTML\": \"Other\", \"bash\": \"Other\", \"python\": \"Other\", \"SVG\": \"Other\", \"javascript\": \"DisplayMagics\", \"writefile\": \"OSMagics\", \"pypy\": \"Other\", \"python3\": \"Other\", \"latex\": \"DisplayMagics\", \"sx\": \"OSMagics\", \"svg\": \"DisplayMagics\", \"html\": \"DisplayMagics\", \"sh\": \"Other\", \"time\": \"ExecutionMagics\", \"debug\": \"ExecutionMagics\"}, \"line\": {\"load\": \"CodeMagics\", \"psource\": \"NamespaceMagics\", \"lsmagic\": \"BasicMagics\", \"logstate\": \"LoggingMagics\", \"logstart\": \"LoggingMagics\", \"popd\": \"OSMagics\", \"ed\": \"Other\", \"pycat\": \"OSMagics\", \"loadpy\": \"CodeMagics\", \"install_ext\": \"ExtensionMagics\", \"cd\": \"OSMagics\", \"pastebin\": \"CodeMagics\", \"clear\": \"KernelMagics\", \"colors\": \"BasicMagics\", \"prun\": \"ExecutionMagics\", \"pushd\": \"OSMagics\", \"rep\": \"Other\", \"config\": \"ConfigMagics\", \"dirs\": \"OSMagics\", \"time\": \"ExecutionMagics\", \"who_ls\": \"NamespaceMagics\", \"install_profiles\": \"DeprecatedMagics\", \"macro\": \"ExecutionMagics\", \"autocall\": \"AutoMagics\", \"alias\": \"OSMagics\", \"bookmark\": \"OSMagics\", \"connect_info\": \"KernelMagics\", \"rehashx\": \"OSMagics\", \"pprint\": \"BasicMagics\", \"system\": \"OSMagics\", \"whos\": \"NamespaceMagics\", \"hist\": \"Other\", \"install_default_config\": \"DeprecatedMagics\", \"logoff\": \"LoggingMagics\", \"env\": \"OSMagics\", \"qtconsole\": \"KernelMagics\", \"load_ext\": \"ExtensionMagics\", \"save\": \"CodeMagics\", \"tb\": \"ExecutionMagics\", \"store\": \"StoreMagics\", \"more\": \"KernelMagics\", \"profile\": \"BasicMagics\", \"doctest_mode\": \"KernelMagics\", \"pylab\": \"PylabMagics\", \"run\": \"ExecutionMagics\", \"reset_selective\": \"NamespaceMagics\", \"pfile\": \"NamespaceMagics\", \"pinfo2\": \"NamespaceMagics\", \"pdef\": \"NamespaceMagics\", \"killbgscripts\": \"ScriptMagics\", \"who\": \"NamespaceMagics\", \"precision\": \"BasicMagics\", \"matplotlib\": \"PylabMagics\", \"quickref\": \"BasicMagics\", \"pinfo\": \"NamespaceMagics\", \"pwd\": \"OSMagics\", \"psearch\": \"NamespaceMagics\", \"autosave\": \"KernelMagics\", \"less\": \"KernelMagics\", \"sc\": \"OSMagics\", \"automagic\": \"AutoMagics\", \"reset\": \"NamespaceMagics\", \"sx\": \"OSMagics\", \"magic\": \"BasicMagics\", \"dhist\": \"OSMagics\", \"timeit\": \"ExecutionMagics\", \"edit\": \"KernelMagics\", \"logstop\": \"LoggingMagics\", \"gui\": \"BasicMagics\", \"xdel\": \"NamespaceMagics\", \"xmode\": \"BasicMagics\", \"notebook\": \"BasicMagics\", \"pdb\": \"ExecutionMagics\", \"recall\": \"HistoryMagics\", \"unalias\": \"OSMagics\", \"unload_ext\": \"ExtensionMagics\", \"alias_magic\": \"BasicMagics\", \"reload_ext\": \"ExtensionMagics\", \"man\": \"KernelMagics\", \"rerun\": \"HistoryMagics\", \"debug\": \"ExecutionMagics\", \"logon\": \"LoggingMagics\", \"page\": \"BasicMagics\", \"pdoc\": \"NamespaceMagics\", \"history\": \"HistoryMagics\"}}"
       ],
       "metadata": {},
       "output_type": "pyout",
       "prompt_number": 9,
       "text": [
        "Available line magics:\n",
        "%alias  %alias_magic  %autocall  %automagic  %autosave  %bookmark  %cd  %clear  %colors  %config  %connect_info  %debug  %dhist  %dirs  %doctest_mode  %ed  %edit  %env  %gui  %hist  %history  %install_default_config  %install_ext  %install_profiles  %killbgscripts  %less  %load  %load_ext  %loadpy  %logoff  %logon  %logstart  %logstate  %logstop  %lsmagic  %macro  %magic  %man  %matplotlib  %more  %notebook  %page  %pastebin  %pdb  %pdef  %pdoc  %pfile  %pinfo  %pinfo2  %popd  %pprint  %precision  %profile  %prun  %psearch  %psource  %pushd  %pwd  %pycat  %pylab  %qtconsole  %quickref  %recall  %rehashx  %reload_ext  %rep  %rerun  %reset  %reset_selective  %run  %save  %sc  %store  %sx  %system  %tb  %time  %timeit  %unalias  %unload_ext  %who  %who_ls  %whos  %xdel  %xmode\n",
        "\n",
        "Available cell magics:\n",
        "%%!  %%HTML  %%SVG  %%bash  %%capture  %%debug  %%file  %%html  %%javascript  %%latex  %%perl  %%prun  %%pypy  %%python  %%python3  %%ruby  %%script  %%sh  %%svg  %%sx  %%system  %%time  %%timeit  %%writefile\n",
        "\n",
        "Automagic is ON, % prefix IS NOT needed for line magics."
       ]
      }
     ],
     "prompt_number": 9
    },
    {
     "cell_type": "heading",
     "level": 2,
     "metadata": {},
     "source": [
      "Executando comandos do terminal"
     ]
    },
    {
     "cell_type": "code",
     "collapsed": false,
     "input": [
      "!ls -lah"
     ],
     "language": "python",
     "metadata": {},
     "outputs": [
      {
       "output_type": "stream",
       "stream": "stdout",
       "text": [
        "total 28K\r\n",
        "drwxrwxr-x 2 zeferino zeferino 4,0K Jan 30 00:37 .\r\n",
        "drwxrwxr-x 4 zeferino zeferino 4,0K Jan 30 00:37 ..\r\n",
        "-rw-rw-r-- 1 zeferino zeferino 4,3K Jan 30 00:37 Display.ipynb\r\n",
        "-rw-rw-r-- 1 zeferino zeferino 3,2K Jan 30 00:37 Graphics.ipynb\r\n",
        "-rw-rw-r-- 1 zeferino zeferino 2,6K Jan 30 00:37 introduction.ipynb\r\n",
        "-rw-rw-r-- 1 zeferino zeferino 4,0K Jan 30 00:37 Script Magics.ipynb\r\n"
       ]
      }
     ],
     "prompt_number": 10
    },
    {
     "cell_type": "code",
     "collapsed": false,
     "input": [
      "!pwd"
     ],
     "language": "python",
     "metadata": {},
     "outputs": [
      {
       "output_type": "stream",
       "stream": "stdout",
       "text": [
        "/home/zeferino/Documentos/talks/PUG-MG/notebooks\r\n"
       ]
      }
     ],
     "prompt_number": 11
    },
    {
     "cell_type": "code",
     "collapsed": false,
     "input": [
      "!mysql -uroot -e 'show processlist'"
     ],
     "language": "python",
     "metadata": {},
     "outputs": [
      {
       "output_type": "stream",
       "stream": "stdout",
       "text": [
        "+----+------+-----------+------+---------+------+-------+------------------+\r\n",
        "| Id | User | Host      | db   | Command | Time | State | Info             |\r\n",
        "+----+------+-----------+------+---------+------+-------+------------------+\r\n",
        "| 36 | root | localhost | NULL | Query   |    1 | NULL  | show processlist |\r\n",
        "+----+------+-----------+------+---------+------+-------+------------------+\r\n"
       ]
      }
     ],
     "prompt_number": 12
    },
    {
     "cell_type": "code",
     "collapsed": false,
     "input": [],
     "language": "python",
     "metadata": {},
     "outputs": []
    }
   ],
   "metadata": {}
  }
 ]
}