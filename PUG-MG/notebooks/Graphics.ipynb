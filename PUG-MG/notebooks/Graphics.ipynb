{
 "metadata": {
  "name": ""
 },
 "nbformat": 3,
 "nbformat_minor": 0,
 "worksheets": [
  {
   "cells": [
    {
     "cell_type": "code",
     "collapsed": false,
     "input": [
      "# somente para vers\u00f5es acima de 1.0\n",
      "%matplotlib inline"
     ],
     "language": "python",
     "metadata": {},
     "outputs": []
    },
    {
     "cell_type": "code",
     "collapsed": false,
     "input": [
      "from IPython.external import mathjax"
     ],
     "language": "python",
     "metadata": {},
     "outputs": []
    },
    {
     "cell_type": "code",
     "collapsed": false,
     "input": [
      "import numpy as np\n",
      "import matplotlib.pyplot as plt"
     ],
     "language": "python",
     "metadata": {},
     "outputs": []
    },
    {
     "cell_type": "code",
     "collapsed": false,
     "input": [
      "x = np.linspace(0, 3*np.pi, 500)\n",
      "plt.plot(x, np.sin(x**2))\n",
      "plt.title('A simple chirp');"
     ],
     "language": "python",
     "metadata": {},
     "outputs": []
    },
    {
     "cell_type": "heading",
     "level": 2,
     "metadata": {},
     "source": [
      "Carregando c\u00f3dido proveniente de uma URL externa"
     ]
    },
    {
     "cell_type": "code",
     "collapsed": false,
     "input": [
      "%loadpy http://matplotlib.org/mpl_examples/statistics/histogram_demo_features.py"
     ],
     "language": "python",
     "metadata": {},
     "outputs": []
    },
    {
     "cell_type": "code",
     "collapsed": false,
     "input": [
      "\"\"\"\n",
      "Demo of the histogram (hist) function with a few features.\n",
      "\n",
      "In addition to the basic histogram, this demo shows a few optional features:\n",
      "\n",
      "    * Setting the number of data bins\n",
      "    * The ``normed`` flag, which normalizes bin heights so that the integral of\n",
      "      the histogram is 1. The resulting histogram is a probability density.\n",
      "    * Setting the face color of the bars\n",
      "    * Setting the opacity (alpha value).\n",
      "\n",
      "\"\"\"\n",
      "import numpy as np\n",
      "import matplotlib.mlab as mlab\n",
      "import matplotlib.pyplot as plt\n",
      "\n",
      "\n",
      "# example data\n",
      "mu = 100 # mean of distribution\n",
      "sigma = 15 # standard deviation of distribution\n",
      "x = mu + sigma * np.random.randn(10000)\n",
      "\n",
      "num_bins = 50\n",
      "# the histogram of the data\n",
      "n, bins, patches = plt.hist(x, num_bins, normed=1, facecolor='green', alpha=0.5)\n",
      "# add a 'best fit' line\n",
      "y = mlab.normpdf(bins, mu, sigma)\n",
      "plt.plot(bins, y, 'r--')\n",
      "plt.xlabel('Smarts')\n",
      "plt.ylabel('Probability')\n",
      "plt.title(r'Histogram of IQ: $\\mu=100$, $\\sigma=15$')\n",
      "\n",
      "# Tweak spacing to prevent clipping of ylabel\n",
      "plt.subplots_adjust(left=0.15)\n",
      "plt.show()\n"
     ],
     "language": "python",
     "metadata": {},
     "outputs": []
    },
    {
     "cell_type": "code",
     "collapsed": false,
     "input": [],
     "language": "python",
     "metadata": {},
     "outputs": []
    }
   ],
   "metadata": {}
  }
 ]
}